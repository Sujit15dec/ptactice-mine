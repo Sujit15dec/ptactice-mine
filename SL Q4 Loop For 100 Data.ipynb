{
 "cells": [
  {
   "cell_type": "markdown",
   "id": "bf8c8db7",
   "metadata": {},
   "source": [
    "Q4: Scrape data of first 100 sunglasses listings on flipkart.com. You have to scrape four attributes: \n",
    "1. Brand \n",
    "2. Product Description \n",
    "3. Price \n",
    "The attributes which you have to scrape is ticked marked in the below image. \n",
    "To scrape the data you have to go through following steps: \n",
    "1. Go to Flipkart webpage by url : https://www.flipkart.com/\n",
    "2. Enter “sunglasses” in the search field where “search for products, brands and more” is written and \n",
    "click the search icon \n",
    "3. After that you will reach to the page having a lot of sunglasses. From this page you can scrap the \n",
    "required data as usual."
   ]
  },
  {
   "cell_type": "code",
   "execution_count": 11,
   "id": "50cffc0f",
   "metadata": {},
   "outputs": [
    {
     "name": "stderr",
     "output_type": "stream",
     "text": [
      "<ipython-input-11-24a9bb0572d6>:9: DeprecationWarning: executable_path has been deprecated, please pass in a Service object\n",
      "  driver = webdriver.Chrome(r\"C:\\Users\\HP\\Downloads\\chromedriver_win32/chromedriver.exe\")\n"
     ]
    }
   ],
   "source": [
    "# import libraries\n",
    "import numpy as np\n",
    "from time import sleep\n",
    "from random import randint\n",
    "import selenium\n",
    "import pandas as pd\n",
    "from selenium import webdriver\n",
    "\n",
    "driver = webdriver.Chrome(r\"C:\\Users\\HP\\Downloads\\chromedriver_win32/chromedriver.exe\")\n",
    "driver.get('https://www.flipkart.com/')"
   ]
  },
  {
   "cell_type": "code",
   "execution_count": 14,
   "id": "60fd00dd",
   "metadata": {},
   "outputs": [
    {
     "name": "stderr",
     "output_type": "stream",
     "text": [
      "<ipython-input-14-63392ea53a22>:1: DeprecationWarning: find_element_by_* commands are deprecated. Please use find_element() instead\n",
      "  target=driver.find_element_by_xpath('//*[@id=\"container\"]/div/div[1]/div[1]/div[2]/div[2]/form/div/div/input')\n"
     ]
    }
   ],
   "source": [
    "target=driver.find_element_by_xpath('//*[@id=\"container\"]/div/div[1]/div[1]/div[2]/div[2]/form/div/div/input')\n",
    "target.click()"
   ]
  },
  {
   "cell_type": "code",
   "execution_count": 15,
   "id": "70c169f3",
   "metadata": {},
   "outputs": [],
   "source": [
    "target.send_keys(\"sunglasses\")"
   ]
  },
  {
   "cell_type": "code",
   "execution_count": 16,
   "id": "88e6fb26",
   "metadata": {},
   "outputs": [
    {
     "name": "stderr",
     "output_type": "stream",
     "text": [
      "<ipython-input-16-0d821e110733>:1: DeprecationWarning: find_element_by_* commands are deprecated. Please use find_element() instead\n",
      "  search_btn=driver.find_element_by_xpath('//*[@id=\"container\"]/div/div[1]/div[1]/div[2]/div[2]/form/div/button')\n"
     ]
    }
   ],
   "source": [
    "search_btn=driver.find_element_by_xpath('//*[@id=\"container\"]/div/div[1]/div[1]/div[2]/div[2]/form/div/button')\n",
    "search_btn.click()"
   ]
  },
  {
   "cell_type": "code",
   "execution_count": 17,
   "id": "6be7cb52",
   "metadata": {},
   "outputs": [],
   "source": [
    "#Loop to go over all pages\n",
    "urls = np.arange(1, 3, 1)\n",
    "data=[]\n",
    "\n",
    "for url in urls:\n",
    "    \n",
    "    url=\"https://www.flipkart.com/search?q=sunglasses&otracker=search&otracker1=search&marketplace=FLIPKART&as-show=on&as=off\" + str(url) "
   ]
  },
  {
   "cell_type": "code",
   "execution_count": 26,
   "id": "97ae32ea",
   "metadata": {},
   "outputs": [],
   "source": [
    "sleep(randint(2,10))"
   ]
  },
  {
   "cell_type": "code",
   "execution_count": 27,
   "id": "2baf1634",
   "metadata": {},
   "outputs": [],
   "source": [
    "brand_titles=[]\n",
    "product_description=[]\n",
    "price=[]\n"
   ]
  },
  {
   "cell_type": "code",
   "execution_count": 28,
   "id": "8977925f",
   "metadata": {},
   "outputs": [
    {
     "name": "stderr",
     "output_type": "stream",
     "text": [
      "<ipython-input-28-c6a68f4ff4a8>:1: DeprecationWarning: find_elements_by_* commands are deprecated. Please use find_elements() instead\n",
      "  brand_tags=driver.find_elements_by_xpath(\"//div[@class='_2WkVRV']\")\n"
     ]
    },
    {
     "data": {
      "text/plain": [
       "['VINCENT CHASE', 'VINCENT CHASE', 'SRPM', 'SUNBEE']"
      ]
     },
     "execution_count": 28,
     "metadata": {},
     "output_type": "execute_result"
    }
   ],
   "source": [
    "brand_tags=driver.find_elements_by_xpath(\"//div[@class='_2WkVRV']\")\n",
    "brand_tags[0:4]\n",
    "\n",
    "for i in brand_tags:\n",
    "    brand=i.text\n",
    "    brand_titles.append(brand)\n",
    "brand_titles[0:4]"
   ]
  },
  {
   "cell_type": "code",
   "execution_count": 29,
   "id": "2d05afed",
   "metadata": {},
   "outputs": [
    {
     "name": "stderr",
     "output_type": "stream",
     "text": [
      "<ipython-input-29-606c16875781>:1: DeprecationWarning: find_elements_by_* commands are deprecated. Please use find_elements() instead\n",
      "  product_description_tags=driver.find_elements_by_xpath(\"//a[@class='IRpwTa']\")\n"
     ]
    },
    {
     "data": {
      "text/plain": [
       "['UV Protection Aviator Sunglasses (53)',\n",
       " 'Polarized, UV Protection Wayfarer Sunglasses (57)',\n",
       " 'UV Protection Wayfarer Sunglasses (56)',\n",
       " 'UV Protection, Polarized, Mirrored Round Sunglasses (Fr...']"
      ]
     },
     "execution_count": 29,
     "metadata": {},
     "output_type": "execute_result"
    }
   ],
   "source": [
    "product_description_tags=driver.find_elements_by_xpath(\"//a[@class='IRpwTa']\")\n",
    "product_description_tags[0:4]\n",
    "\n",
    "for i in product_description_tags:\n",
    "    product_des=i.text\n",
    "    product_description.append(product_des)\n",
    "product_description[0:4]"
   ]
  },
  {
   "cell_type": "code",
   "execution_count": 30,
   "id": "b803ab24",
   "metadata": {},
   "outputs": [
    {
     "name": "stderr",
     "output_type": "stream",
     "text": [
      "<ipython-input-30-486c74221161>:1: DeprecationWarning: find_elements_by_* commands are deprecated. Please use find_elements() instead\n",
      "  price_tags=driver.find_elements_by_xpath(\"//div[@class='_30jeq3']\")\n"
     ]
    },
    {
     "data": {
      "text/plain": [
       "['₹999', '₹799', '₹188', '₹276']"
      ]
     },
     "execution_count": 30,
     "metadata": {},
     "output_type": "execute_result"
    }
   ],
   "source": [
    "price_tags=driver.find_elements_by_xpath(\"//div[@class='_30jeq3']\")\n",
    "price_tags[0:4]\n",
    "\n",
    "for i in price_tags:\n",
    "    prc=i.text\n",
    "    price.append(prc)\n",
    "price[0:4]"
   ]
  },
  {
   "cell_type": "code",
   "execution_count": 31,
   "id": "cb153c2e",
   "metadata": {},
   "outputs": [
    {
     "data": {
      "text/plain": [
       "(40, 40, 40)"
      ]
     },
     "execution_count": 31,
     "metadata": {},
     "output_type": "execute_result"
    }
   ],
   "source": [
    "(len(brand_titles),len(product_description),len(price))"
   ]
  },
  {
   "cell_type": "code",
   "execution_count": 32,
   "id": "b691c618",
   "metadata": {},
   "outputs": [
    {
     "data": {
      "text/html": [
       "<div>\n",
       "<style scoped>\n",
       "    .dataframe tbody tr th:only-of-type {\n",
       "        vertical-align: middle;\n",
       "    }\n",
       "\n",
       "    .dataframe tbody tr th {\n",
       "        vertical-align: top;\n",
       "    }\n",
       "\n",
       "    .dataframe thead th {\n",
       "        text-align: right;\n",
       "    }\n",
       "</style>\n",
       "<table border=\"1\" class=\"dataframe\">\n",
       "  <thead>\n",
       "    <tr style=\"text-align: right;\">\n",
       "      <th></th>\n",
       "      <th>Brand</th>\n",
       "      <th>Product_Description</th>\n",
       "      <th>Price</th>\n",
       "    </tr>\n",
       "  </thead>\n",
       "  <tbody>\n",
       "    <tr>\n",
       "      <th>0</th>\n",
       "      <td>VINCENT CHASE</td>\n",
       "      <td>UV Protection Aviator Sunglasses (53)</td>\n",
       "      <td>₹999</td>\n",
       "    </tr>\n",
       "    <tr>\n",
       "      <th>1</th>\n",
       "      <td>VINCENT CHASE</td>\n",
       "      <td>Polarized, UV Protection Wayfarer Sunglasses (57)</td>\n",
       "      <td>₹799</td>\n",
       "    </tr>\n",
       "    <tr>\n",
       "      <th>2</th>\n",
       "      <td>SRPM</td>\n",
       "      <td>UV Protection Wayfarer Sunglasses (56)</td>\n",
       "      <td>₹188</td>\n",
       "    </tr>\n",
       "    <tr>\n",
       "      <th>3</th>\n",
       "      <td>SUNBEE</td>\n",
       "      <td>UV Protection, Polarized, Mirrored Round Sungl...</td>\n",
       "      <td>₹276</td>\n",
       "    </tr>\n",
       "    <tr>\n",
       "      <th>4</th>\n",
       "      <td>Elligator</td>\n",
       "      <td>UV Protection Round Sunglasses (54)</td>\n",
       "      <td>₹248</td>\n",
       "    </tr>\n",
       "    <tr>\n",
       "      <th>5</th>\n",
       "      <td>Fastrack</td>\n",
       "      <td>UV Protection Rectangular Sunglasses (Free Size)</td>\n",
       "      <td>₹639</td>\n",
       "    </tr>\n",
       "    <tr>\n",
       "      <th>6</th>\n",
       "      <td>SHAAH COLLECTIONS</td>\n",
       "      <td>UV Protection, Polarized, Mirrored Rectangular...</td>\n",
       "      <td>₹177</td>\n",
       "    </tr>\n",
       "    <tr>\n",
       "      <th>7</th>\n",
       "      <td>VINCENT CHASE</td>\n",
       "      <td>Polarized, UV Protection Wayfarer Sunglasses (...</td>\n",
       "      <td>₹799</td>\n",
       "    </tr>\n",
       "    <tr>\n",
       "      <th>8</th>\n",
       "      <td>PIRASO</td>\n",
       "      <td>UV Protection Aviator Sunglasses (54)</td>\n",
       "      <td>₹200</td>\n",
       "    </tr>\n",
       "    <tr>\n",
       "      <th>9</th>\n",
       "      <td>SHAAH COLLECTIONS</td>\n",
       "      <td>UV Protection, Polarized, Mirrored Rectangular...</td>\n",
       "      <td>₹189</td>\n",
       "    </tr>\n",
       "    <tr>\n",
       "      <th>10</th>\n",
       "      <td>kingsunglasses</td>\n",
       "      <td>UV Protection Round Sunglasses (54)</td>\n",
       "      <td>₹189</td>\n",
       "    </tr>\n",
       "    <tr>\n",
       "      <th>11</th>\n",
       "      <td>VINCENT CHASE</td>\n",
       "      <td>by Lenskart Polarized, UV Protection Round Sun...</td>\n",
       "      <td>₹1,415</td>\n",
       "    </tr>\n",
       "    <tr>\n",
       "      <th>12</th>\n",
       "      <td>kingsunglasses</td>\n",
       "      <td>Mirrored, UV Protection Wayfarer Sunglasses (F...</td>\n",
       "      <td>₹259</td>\n",
       "    </tr>\n",
       "    <tr>\n",
       "      <th>13</th>\n",
       "      <td>PIRASO</td>\n",
       "      <td>UV Protection Aviator Sunglasses (54)</td>\n",
       "      <td>₹187</td>\n",
       "    </tr>\n",
       "    <tr>\n",
       "      <th>14</th>\n",
       "      <td>GANSTA</td>\n",
       "      <td>UV Protection Aviator Sunglasses (57)</td>\n",
       "      <td>₹269</td>\n",
       "    </tr>\n",
       "    <tr>\n",
       "      <th>15</th>\n",
       "      <td>VINCENT CHASE</td>\n",
       "      <td>Polarized, UV Protection Wayfarer Sunglasses (57)</td>\n",
       "      <td>₹999</td>\n",
       "    </tr>\n",
       "    <tr>\n",
       "      <th>16</th>\n",
       "      <td>PHENOMENAL</td>\n",
       "      <td>UV Protection Retro Square Sunglasses (Free Size)</td>\n",
       "      <td>₹329</td>\n",
       "    </tr>\n",
       "    <tr>\n",
       "      <th>17</th>\n",
       "      <td>hipe</td>\n",
       "      <td>Mirrored, UV Protection, Gradient Round Sungla...</td>\n",
       "      <td>₹189</td>\n",
       "    </tr>\n",
       "    <tr>\n",
       "      <th>18</th>\n",
       "      <td>Rich Club</td>\n",
       "      <td>Polarized Round Sunglasses (48)</td>\n",
       "      <td>₹189</td>\n",
       "    </tr>\n",
       "    <tr>\n",
       "      <th>19</th>\n",
       "      <td>VINCENT CHASE</td>\n",
       "      <td>by Lenskart Polarized, UV Protection Wayfarer ...</td>\n",
       "      <td>₹999</td>\n",
       "    </tr>\n",
       "    <tr>\n",
       "      <th>20</th>\n",
       "      <td>New Specs</td>\n",
       "      <td>UV Protection Rectangular Sunglasses (Free Size)</td>\n",
       "      <td>₹259</td>\n",
       "    </tr>\n",
       "    <tr>\n",
       "      <th>21</th>\n",
       "      <td>New Specs</td>\n",
       "      <td>Mirrored, UV Protection, Riding Glasses, Other...</td>\n",
       "      <td>₹269</td>\n",
       "    </tr>\n",
       "    <tr>\n",
       "      <th>22</th>\n",
       "      <td>PIRASO</td>\n",
       "      <td>UV Protection Aviator Sunglasses (54)</td>\n",
       "      <td>₹187</td>\n",
       "    </tr>\n",
       "    <tr>\n",
       "      <th>23</th>\n",
       "      <td>VINCENT CHASE</td>\n",
       "      <td>Polarized, UV Protection Aviator Sunglasses (58)</td>\n",
       "      <td>₹999</td>\n",
       "    </tr>\n",
       "    <tr>\n",
       "      <th>24</th>\n",
       "      <td>ROZZETTA CRAFT</td>\n",
       "      <td>UV Protection Retro Square Sunglasses (Free Size)</td>\n",
       "      <td>₹499</td>\n",
       "    </tr>\n",
       "    <tr>\n",
       "      <th>25</th>\n",
       "      <td>Fastrack</td>\n",
       "      <td>UV Protection Aviator Sunglasses (Free Size)</td>\n",
       "      <td>₹689</td>\n",
       "    </tr>\n",
       "    <tr>\n",
       "      <th>26</th>\n",
       "      <td>Elligator</td>\n",
       "      <td>UV Protection Round Sunglasses (55)</td>\n",
       "      <td>₹239</td>\n",
       "    </tr>\n",
       "    <tr>\n",
       "      <th>27</th>\n",
       "      <td>VINCENT CHASE</td>\n",
       "      <td>Polarized, UV Protection Wayfarer Sunglasses (53)</td>\n",
       "      <td>₹1,533</td>\n",
       "    </tr>\n",
       "    <tr>\n",
       "      <th>28</th>\n",
       "      <td>ROYAL SON</td>\n",
       "      <td>Mirrored Aviator Sunglasses (55)</td>\n",
       "      <td>₹359</td>\n",
       "    </tr>\n",
       "    <tr>\n",
       "      <th>29</th>\n",
       "      <td>PHENOMENAL</td>\n",
       "      <td>UV Protection, Mirrored Retro Square Sunglasse...</td>\n",
       "      <td>₹311</td>\n",
       "    </tr>\n",
       "    <tr>\n",
       "      <th>30</th>\n",
       "      <td>elegante</td>\n",
       "      <td>Mirrored Round Sunglasses (Free Size)</td>\n",
       "      <td>₹340</td>\n",
       "    </tr>\n",
       "    <tr>\n",
       "      <th>31</th>\n",
       "      <td>ROYAL SON</td>\n",
       "      <td>UV Protection, Gradient Over-sized Sunglasses ...</td>\n",
       "      <td>₹664</td>\n",
       "    </tr>\n",
       "    <tr>\n",
       "      <th>32</th>\n",
       "      <td>hipe</td>\n",
       "      <td>UV Protection, Gradient, Mirrored, Riding Glas...</td>\n",
       "      <td>₹209</td>\n",
       "    </tr>\n",
       "    <tr>\n",
       "      <th>33</th>\n",
       "      <td>NuVew</td>\n",
       "      <td>UV Protection, Night Vision, Riding Glasses Sp...</td>\n",
       "      <td>₹270</td>\n",
       "    </tr>\n",
       "    <tr>\n",
       "      <th>34</th>\n",
       "      <td>kingsunglasses</td>\n",
       "      <td>UV Protection Rectangular Sunglasses (55)</td>\n",
       "      <td>₹259</td>\n",
       "    </tr>\n",
       "    <tr>\n",
       "      <th>35</th>\n",
       "      <td>VINCENT CHASE</td>\n",
       "      <td>UV Protection Aviator Sunglasses (Free Size)</td>\n",
       "      <td>₹999</td>\n",
       "    </tr>\n",
       "    <tr>\n",
       "      <th>36</th>\n",
       "      <td>Fastrack</td>\n",
       "      <td>Gradient, UV Protection Wayfarer Sunglasses (F...</td>\n",
       "      <td>₹509</td>\n",
       "    </tr>\n",
       "    <tr>\n",
       "      <th>37</th>\n",
       "      <td>SUNBEE</td>\n",
       "      <td>UV Protection, Polarized, Mirrored Wayfarer Su...</td>\n",
       "      <td>₹215</td>\n",
       "    </tr>\n",
       "    <tr>\n",
       "      <th>38</th>\n",
       "      <td>HIPPON</td>\n",
       "      <td>UV Protection Wayfarer Sunglasses (55)</td>\n",
       "      <td>₹231</td>\n",
       "    </tr>\n",
       "    <tr>\n",
       "      <th>39</th>\n",
       "      <td>elegante</td>\n",
       "      <td>UV Protection Oval Sunglasses (Free Size)</td>\n",
       "      <td>₹359</td>\n",
       "    </tr>\n",
       "  </tbody>\n",
       "</table>\n",
       "</div>"
      ],
      "text/plain": [
       "                Brand                                Product_Description  \\\n",
       "0       VINCENT CHASE              UV Protection Aviator Sunglasses (53)   \n",
       "1       VINCENT CHASE  Polarized, UV Protection Wayfarer Sunglasses (57)   \n",
       "2                SRPM             UV Protection Wayfarer Sunglasses (56)   \n",
       "3              SUNBEE  UV Protection, Polarized, Mirrored Round Sungl...   \n",
       "4           Elligator                UV Protection Round Sunglasses (54)   \n",
       "5            Fastrack   UV Protection Rectangular Sunglasses (Free Size)   \n",
       "6   SHAAH COLLECTIONS  UV Protection, Polarized, Mirrored Rectangular...   \n",
       "7       VINCENT CHASE  Polarized, UV Protection Wayfarer Sunglasses (...   \n",
       "8              PIRASO              UV Protection Aviator Sunglasses (54)   \n",
       "9   SHAAH COLLECTIONS  UV Protection, Polarized, Mirrored Rectangular...   \n",
       "10     kingsunglasses                UV Protection Round Sunglasses (54)   \n",
       "11      VINCENT CHASE  by Lenskart Polarized, UV Protection Round Sun...   \n",
       "12     kingsunglasses  Mirrored, UV Protection Wayfarer Sunglasses (F...   \n",
       "13             PIRASO              UV Protection Aviator Sunglasses (54)   \n",
       "14             GANSTA              UV Protection Aviator Sunglasses (57)   \n",
       "15      VINCENT CHASE  Polarized, UV Protection Wayfarer Sunglasses (57)   \n",
       "16         PHENOMENAL  UV Protection Retro Square Sunglasses (Free Size)   \n",
       "17               hipe  Mirrored, UV Protection, Gradient Round Sungla...   \n",
       "18          Rich Club                    Polarized Round Sunglasses (48)   \n",
       "19      VINCENT CHASE  by Lenskart Polarized, UV Protection Wayfarer ...   \n",
       "20          New Specs   UV Protection Rectangular Sunglasses (Free Size)   \n",
       "21          New Specs  Mirrored, UV Protection, Riding Glasses, Other...   \n",
       "22             PIRASO              UV Protection Aviator Sunglasses (54)   \n",
       "23      VINCENT CHASE   Polarized, UV Protection Aviator Sunglasses (58)   \n",
       "24     ROZZETTA CRAFT  UV Protection Retro Square Sunglasses (Free Size)   \n",
       "25           Fastrack       UV Protection Aviator Sunglasses (Free Size)   \n",
       "26          Elligator                UV Protection Round Sunglasses (55)   \n",
       "27      VINCENT CHASE  Polarized, UV Protection Wayfarer Sunglasses (53)   \n",
       "28          ROYAL SON                   Mirrored Aviator Sunglasses (55)   \n",
       "29         PHENOMENAL  UV Protection, Mirrored Retro Square Sunglasse...   \n",
       "30           elegante              Mirrored Round Sunglasses (Free Size)   \n",
       "31          ROYAL SON  UV Protection, Gradient Over-sized Sunglasses ...   \n",
       "32               hipe  UV Protection, Gradient, Mirrored, Riding Glas...   \n",
       "33              NuVew  UV Protection, Night Vision, Riding Glasses Sp...   \n",
       "34     kingsunglasses          UV Protection Rectangular Sunglasses (55)   \n",
       "35      VINCENT CHASE       UV Protection Aviator Sunglasses (Free Size)   \n",
       "36           Fastrack  Gradient, UV Protection Wayfarer Sunglasses (F...   \n",
       "37             SUNBEE  UV Protection, Polarized, Mirrored Wayfarer Su...   \n",
       "38             HIPPON             UV Protection Wayfarer Sunglasses (55)   \n",
       "39           elegante          UV Protection Oval Sunglasses (Free Size)   \n",
       "\n",
       "     Price  \n",
       "0     ₹999  \n",
       "1     ₹799  \n",
       "2     ₹188  \n",
       "3     ₹276  \n",
       "4     ₹248  \n",
       "5     ₹639  \n",
       "6     ₹177  \n",
       "7     ₹799  \n",
       "8     ₹200  \n",
       "9     ₹189  \n",
       "10    ₹189  \n",
       "11  ₹1,415  \n",
       "12    ₹259  \n",
       "13    ₹187  \n",
       "14    ₹269  \n",
       "15    ₹999  \n",
       "16    ₹329  \n",
       "17    ₹189  \n",
       "18    ₹189  \n",
       "19    ₹999  \n",
       "20    ₹259  \n",
       "21    ₹269  \n",
       "22    ₹187  \n",
       "23    ₹999  \n",
       "24    ₹499  \n",
       "25    ₹689  \n",
       "26    ₹239  \n",
       "27  ₹1,533  \n",
       "28    ₹359  \n",
       "29    ₹311  \n",
       "30    ₹340  \n",
       "31    ₹664  \n",
       "32    ₹209  \n",
       "33    ₹270  \n",
       "34    ₹259  \n",
       "35    ₹999  \n",
       "36    ₹509  \n",
       "37    ₹215  \n",
       "38    ₹231  \n",
       "39    ₹359  "
      ]
     },
     "execution_count": 32,
     "metadata": {},
     "output_type": "execute_result"
    }
   ],
   "source": [
    "products=pd.DataFrame({})\n",
    "products['Brand']=brand_titles[0:100]\n",
    "products['Product_Description']=product_description[0:100]\n",
    "products['Price']=price[0:100]\n",
    "products"
   ]
  },
  {
   "cell_type": "code",
   "execution_count": null,
   "id": "0ecc6fa7",
   "metadata": {},
   "outputs": [],
   "source": []
  }
 ],
 "metadata": {
  "kernelspec": {
   "display_name": "Python 3",
   "language": "python",
   "name": "python3"
  },
  "language_info": {
   "codemirror_mode": {
    "name": "ipython",
    "version": 3
   },
   "file_extension": ".py",
   "mimetype": "text/x-python",
   "name": "python",
   "nbconvert_exporter": "python",
   "pygments_lexer": "ipython3",
   "version": "3.8.8"
  }
 },
 "nbformat": 4,
 "nbformat_minor": 5
}
